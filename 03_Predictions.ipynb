{
 "cells": [
  {
   "cell_type": "code",
   "execution_count": null,
   "id": "1c7e8bc2",
   "metadata": {},
   "outputs": [],
   "source": []
  },
  {
   "cell_type": "code",
   "execution_count": 1,
   "id": "a7139a0b",
   "metadata": {},
   "outputs": [
    {
     "name": "stderr",
     "output_type": "stream",
     "text": [
      "2022-05-11 09:15:40.881468: W tensorflow/stream_executor/platform/default/dso_loader.cc:64] Could not load dynamic library 'libcudart.so.11.0'; dlerror: libcudart.so.11.0: cannot open shared object file: No such file or directory; LD_LIBRARY_PATH: /home/kabeer/.local/lib/python3.10/site-packages/cv2/../../lib64:\n",
      "2022-05-11 09:15:40.881502: I tensorflow/stream_executor/cuda/cudart_stub.cc:29] Ignore above cudart dlerror if you do not have a GPU set up on your machine.\n"
     ]
    }
   ],
   "source": [
    "import numpy as np \n",
    "import cv2\n",
    "import tensorflow as tf"
   ]
  },
  {
   "cell_type": "code",
   "execution_count": 2,
   "id": "b7b8ab3f",
   "metadata": {},
   "outputs": [],
   "source": [
    "from scipy.special import softmax"
   ]
  },
  {
   "cell_type": "code",
   "execution_count": 3,
   "id": "476f0024",
   "metadata": {},
   "outputs": [],
   "source": [
    "# Load all the models \n",
    "\n"
   ]
  },
  {
   "cell_type": "code",
   "execution_count": 4,
   "id": "93d9d1bd",
   "metadata": {},
   "outputs": [],
   "source": [
    "# face detection model \n",
    "face_detection_model = cv2.dnn.readNetFromCaffe('./models/deploy.prototxt.txt',\n",
    "                                                './models/res10_300x300_ssd_iter_140000_fp16.caffemodel')"
   ]
  },
  {
   "cell_type": "code",
   "execution_count": 5,
   "id": "fb03c757",
   "metadata": {},
   "outputs": [
    {
     "name": "stdout",
     "output_type": "stream",
     "text": [
      "WARNING:tensorflow:SavedModel saved prior to TF 2.5 detected when loading Keras model. Please ensure that you are saving the model with model.save() or tf.keras.models.save_model(), *NOT* tf.saved_model.save(). To confirm, there should be a file named \"keras_metadata.pb\" in the SavedModel directory.\n"
     ]
    },
    {
     "name": "stderr",
     "output_type": "stream",
     "text": [
      "2022-05-11 09:15:44.929933: I tensorflow/stream_executor/cuda/cuda_gpu_executor.cc:936] successful NUMA node read from SysFS had negative value (-1), but there must be at least one NUMA node, so returning NUMA node zero\n",
      "2022-05-11 09:15:44.930254: W tensorflow/stream_executor/platform/default/dso_loader.cc:64] Could not load dynamic library 'libcudart.so.11.0'; dlerror: libcudart.so.11.0: cannot open shared object file: No such file or directory; LD_LIBRARY_PATH: /home/kabeer/.local/lib/python3.10/site-packages/cv2/../../lib64:\n",
      "2022-05-11 09:15:44.930302: W tensorflow/stream_executor/platform/default/dso_loader.cc:64] Could not load dynamic library 'libcublas.so.11'; dlerror: libcublas.so.11: cannot open shared object file: No such file or directory; LD_LIBRARY_PATH: /home/kabeer/.local/lib/python3.10/site-packages/cv2/../../lib64:\n",
      "2022-05-11 09:15:44.930343: W tensorflow/stream_executor/platform/default/dso_loader.cc:64] Could not load dynamic library 'libcublasLt.so.11'; dlerror: libcublasLt.so.11: cannot open shared object file: No such file or directory; LD_LIBRARY_PATH: /home/kabeer/.local/lib/python3.10/site-packages/cv2/../../lib64:\n",
      "2022-05-11 09:15:44.930383: W tensorflow/stream_executor/platform/default/dso_loader.cc:64] Could not load dynamic library 'libcufft.so.10'; dlerror: libcufft.so.10: cannot open shared object file: No such file or directory; LD_LIBRARY_PATH: /home/kabeer/.local/lib/python3.10/site-packages/cv2/../../lib64:\n",
      "2022-05-11 09:15:44.930422: W tensorflow/stream_executor/platform/default/dso_loader.cc:64] Could not load dynamic library 'libcurand.so.10'; dlerror: libcurand.so.10: cannot open shared object file: No such file or directory; LD_LIBRARY_PATH: /home/kabeer/.local/lib/python3.10/site-packages/cv2/../../lib64:\n",
      "2022-05-11 09:15:44.930462: W tensorflow/stream_executor/platform/default/dso_loader.cc:64] Could not load dynamic library 'libcusolver.so.11'; dlerror: libcusolver.so.11: cannot open shared object file: No such file or directory; LD_LIBRARY_PATH: /home/kabeer/.local/lib/python3.10/site-packages/cv2/../../lib64:\n",
      "2022-05-11 09:15:44.930565: W tensorflow/stream_executor/platform/default/dso_loader.cc:64] Could not load dynamic library 'libcusparse.so.11'; dlerror: libcusparse.so.11: cannot open shared object file: No such file or directory; LD_LIBRARY_PATH: /home/kabeer/.local/lib/python3.10/site-packages/cv2/../../lib64:\n",
      "2022-05-11 09:15:44.930606: W tensorflow/stream_executor/platform/default/dso_loader.cc:64] Could not load dynamic library 'libcudnn.so.8'; dlerror: libcudnn.so.8: cannot open shared object file: No such file or directory; LD_LIBRARY_PATH: /home/kabeer/.local/lib/python3.10/site-packages/cv2/../../lib64:\n",
      "2022-05-11 09:15:44.930614: W tensorflow/core/common_runtime/gpu/gpu_device.cc:1850] Cannot dlopen some GPU libraries. Please make sure the missing libraries mentioned above are installed properly if you would like to use GPU. Follow the guide at https://www.tensorflow.org/install/gpu for how to download and setup the required libraries for your platform.\n",
      "Skipping registering GPU devices...\n",
      "2022-05-11 09:15:44.930983: I tensorflow/core/platform/cpu_feature_guard.cc:151] This TensorFlow binary is optimized with oneAPI Deep Neural Network Library (oneDNN) to use the following CPU instructions in performance-critical operations:  AVX2 FMA\n",
      "To enable them in other operations, rebuild TensorFlow with the appropriate compiler flags.\n"
     ]
    }
   ],
   "source": [
    "# face mask recognition model (tensorflow model)\n",
    "model = tf.keras.models.load_model('face_cnn_model/')"
   ]
  },
  {
   "cell_type": "code",
   "execution_count": 6,
   "id": "75b855bd",
   "metadata": {},
   "outputs": [],
   "source": [
    "# Label Information \n",
    "\n",
    "labels = ['Mask' , 'No Mask', 'Covered Mouth and Chin' ,' Covered Nose and Mouth']\n",
    "\n",
    "def getColor(label):\n",
    "    if label == \"Mask\":\n",
    "        color = (0,255,0)\n",
    "    elif label == \"No Mask\":\n",
    "        color = (0,0,255)\n",
    "    elif label == \"Covered Mouth and Chin\":\n",
    "        color = (0,255,255)\n",
    "    else:\n",
    "        color = (255,255,0)\n",
    "        \n",
    "    return color"
   ]
  },
  {
   "cell_type": "code",
   "execution_count": 7,
   "id": "0c00c4f4",
   "metadata": {},
   "outputs": [
    {
     "data": {
      "text/plain": [
       "(0, 255, 255)"
      ]
     },
     "execution_count": 7,
     "metadata": {},
     "output_type": "execute_result"
    }
   ],
   "source": [
    "# test color \n",
    "getColor('Covered Mouth and Chin')"
   ]
  },
  {
   "cell_type": "markdown",
   "id": "eb200426",
   "metadata": {},
   "source": [
    "# Recognition Code "
   ]
  },
  {
   "cell_type": "code",
   "execution_count": 8,
   "id": "e113875f",
   "metadata": {},
   "outputs": [],
   "source": [
    "# step 1 --> face detection \n",
    "\n",
    "# step 2 --> Data Preprocessing \n",
    "\n",
    "\n",
    "# step 3 --> Deep Learning(CNN)\n"
   ]
  },
  {
   "cell_type": "code",
   "execution_count": 9,
   "id": "cdabf324",
   "metadata": {},
   "outputs": [],
   "source": [
    "# img = cv2.imread(r'C:\\Users\\asus\\Desktop\\Face Mask Detection\\2.deep_learning\\data\\Mask_Nose_Mouth\\00009.jpg')\n",
    "\n",
    "# cv2.imshow('original image ',img)\n",
    "# cv2.waitKey(0)\n",
    "# cv2.destroyAllWindows()"
   ]
  },
  {
   "cell_type": "code",
   "execution_count": 10,
   "id": "48eeca58",
   "metadata": {},
   "outputs": [],
   "source": [
    "def face_mask_prediction(img):\n",
    "    #step 1 --> face detection \n",
    "    image = img.copy()\n",
    "    h,w = image.shape[:2]\n",
    "\n",
    "    blob = cv2.dnn.blobFromImage(image , 1 ,(300,300) , (104,117,123) , swapRB = True)\n",
    "\n",
    "    face_detection_model.setInput(blob)\n",
    "    detection = face_detection_model.forward() # it will give the detection in 3 to 7 \n",
    "\n",
    "    for i in range(0,detection.shape[2]):\n",
    "        confidence = detection[0,0,i,2]\n",
    "        if confidence > 0.5:\n",
    "            box = detection[0,0,i,3:7]*np.array([w,h,w,h])\n",
    "            box = box.astype(int)\n",
    "            pt1 = (box[0],box[1])\n",
    "            pt2 = (box[2],box[3])\n",
    "    #         cv2.rectangle(image,pt1,pt2,(0,255,0),1)\n",
    "\n",
    "            # step 2 --> data preprocess\n",
    "\n",
    "            face = image[box[1]:box[3],box[0]:box[2]]\n",
    "            face_blob = cv2.dnn.blobFromImage(face,1,(100,100),(104,117,123),swapRB=True)\n",
    "            face_blob_squeeze = np.squeeze(face_blob).T\n",
    "\n",
    "            face_blob_rotate = cv2.rotate(face_blob_squeeze,cv2.ROTATE_90_CLOCKWISE)\n",
    "            face_blob_flip = cv2.flip(face_blob_rotate,1)\n",
    "            #normalization\n",
    "            img_norm = np.maximum(face_blob_flip,0)/face_blob_flip.max()\n",
    "\n",
    "            # step 3--> Deep Learning (CNN)\n",
    "            img_input = img_norm.reshape(1,100,100,3)\n",
    "            result = model.predict(img_input)\n",
    "            result = softmax(result)[0]\n",
    "            confidence_index = result.argmax()\n",
    "    #         print(confidence_index)\n",
    "            confidence_score = result[confidence_index]\n",
    "            label = labels[confidence_index]\n",
    "            label_text = '{}:{:,.0f}%'.format(label,confidence_score*100)\n",
    "    #         print(label_text)\n",
    "            color = getColor(label)\n",
    "            cv2.rectangle(image,pt1,pt2,color,1)\n",
    "            cv2.putText(image,label_text,pt1,cv2.FONT_HERSHEY_PLAIN,1,color,1)\n",
    "            \n",
    "    return image\n",
    "        \n",
    "\n",
    "\n",
    "        "
   ]
  },
  {
   "cell_type": "code",
   "execution_count": 11,
   "id": "6740282f",
   "metadata": {},
   "outputs": [],
   "source": [
    "# softmax(result)\n",
    "\n"
   ]
  },
  {
   "cell_type": "code",
   "execution_count": 12,
   "id": "a76777c1",
   "metadata": {},
   "outputs": [],
   "source": [
    "# img = cv2.imread(r'C:\\Users\\asus\\Desktop\\Face Mask Detection\\2.deep_learning\\data\\Mask\\00001.jpg')\n",
    "\n",
    "# image = face_mask_prediction(img)\n",
    "\n",
    "# cv2.imshow('original image ',image)\n",
    "# cv2.waitKey(0)\n",
    "# cv2.destroyAllWindows()"
   ]
  },
  {
   "cell_type": "markdown",
   "id": "079a6138",
   "metadata": {},
   "source": [
    "# Real time Face Mask Detection \n"
   ]
  },
  {
   "cell_type": "code",
   "execution_count": null,
   "id": "1720580d",
   "metadata": {},
   "outputs": [],
   "source": [
    "cap = cv2.VideoCapture(0)\n",
    "\n",
    "while True:\n",
    "    ret,frames = cap.read()\n",
    "    if ret == False:\n",
    "        break\n",
    "        \n",
    "    \n",
    "    image = face_mask_prediction(frames)\n",
    "#     cv2.namedWindow(\"Resized_Window\", cv2.WINDOW_NORMAL)\n",
    "#     cv2.resizeWindow(\"Resized_Window\", 900, 1080)\n",
    "    cv2.imshow(\"Resized_Window\",image)\n",
    "    if cv2.waitKey(1) == 27:\n",
    "        break\n",
    "\n",
    "cap.release()\n",
    "cv2.destroyAllWindows()"
   ]
  },
  {
   "cell_type": "code",
   "execution_count": null,
   "id": "1e5a9ac6",
   "metadata": {},
   "outputs": [],
   "source": []
  }
 ],
 "metadata": {
  "kernelspec": {
   "display_name": "Python 3 (ipykernel)",
   "language": "python",
   "name": "python3"
  },
  "language_info": {
   "codemirror_mode": {
    "name": "ipython",
    "version": 3
   },
   "file_extension": ".py",
   "mimetype": "text/x-python",
   "name": "python",
   "nbconvert_exporter": "python",
   "pygments_lexer": "ipython3",
   "version": "3.10.4"
  }
 },
 "nbformat": 4,
 "nbformat_minor": 5
}
